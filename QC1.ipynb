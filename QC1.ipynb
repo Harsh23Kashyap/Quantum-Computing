{
 "cells": [
  {
   "cell_type": "code",
   "execution_count": 91,
   "id": "3b68eee1",
   "metadata": {},
   "outputs": [],
   "source": [
    "from qiskit import QuantumCircuit, assemble, Aer, execute\n",
    "from qiskit.visualization import plot_histogram"
   ]
  },
  {
   "cell_type": "code",
   "execution_count": 188,
   "id": "55939352",
   "metadata": {},
   "outputs": [
    {
     "name": "stdout",
     "output_type": "stream",
     "text": [
      "Collecting git+https://github.com/qiskit-community/qiskit-textbook.git#subdirectory=qiskit-textbook-src\n",
      "  Cloning https://github.com/qiskit-community/qiskit-textbook.git to /private/var/folders/8f/4b2m45n11v3_s7xc7ndmx0nw0000gp/T/pip-req-build-0mt3gqku\n",
      "  Running command git clone -q https://github.com/qiskit-community/qiskit-textbook.git /private/var/folders/8f/4b2m45n11v3_s7xc7ndmx0nw0000gp/T/pip-req-build-0mt3gqku\n",
      "  Resolved https://github.com/qiskit-community/qiskit-textbook.git to commit da214d493867df4b6d3411e7aa7b1bc02d2aa0e5\n",
      "Requirement already satisfied: qiskit in /Users/licious/opt/anaconda3/lib/python3.9/site-packages (from qiskit-textbook==0.1.0) (0.34.1)\n",
      "Requirement already satisfied: ipython in /Users/licious/opt/anaconda3/lib/python3.9/site-packages (from qiskit-textbook==0.1.0) (7.29.0)\n",
      "Requirement already satisfied: ipywidgets in /Users/licious/opt/anaconda3/lib/python3.9/site-packages (from qiskit-textbook==0.1.0) (7.6.5)\n",
      "Requirement already satisfied: numpy in /Users/licious/opt/anaconda3/lib/python3.9/site-packages (from qiskit-textbook==0.1.0) (1.20.3)\n",
      "Requirement already satisfied: matplotlib in /Users/licious/opt/anaconda3/lib/python3.9/site-packages (from qiskit-textbook==0.1.0) (3.4.3)\n",
      "Requirement already satisfied: pygments in /Users/licious/opt/anaconda3/lib/python3.9/site-packages (from ipython->qiskit-textbook==0.1.0) (2.10.0)\n",
      "Requirement already satisfied: matplotlib-inline in /Users/licious/opt/anaconda3/lib/python3.9/site-packages (from ipython->qiskit-textbook==0.1.0) (0.1.2)\n",
      "Requirement already satisfied: jedi>=0.16 in /Users/licious/opt/anaconda3/lib/python3.9/site-packages (from ipython->qiskit-textbook==0.1.0) (0.18.0)\n",
      "Requirement already satisfied: backcall in /Users/licious/opt/anaconda3/lib/python3.9/site-packages (from ipython->qiskit-textbook==0.1.0) (0.2.0)\n",
      "Requirement already satisfied: setuptools>=18.5 in /Users/licious/opt/anaconda3/lib/python3.9/site-packages (from ipython->qiskit-textbook==0.1.0) (58.0.4)\n",
      "Requirement already satisfied: prompt-toolkit!=3.0.0,!=3.0.1,<3.1.0,>=2.0.0 in /Users/licious/opt/anaconda3/lib/python3.9/site-packages (from ipython->qiskit-textbook==0.1.0) (3.0.20)\n",
      "Requirement already satisfied: decorator in /Users/licious/opt/anaconda3/lib/python3.9/site-packages (from ipython->qiskit-textbook==0.1.0) (5.1.0)\n",
      "Requirement already satisfied: traitlets>=4.2 in /Users/licious/opt/anaconda3/lib/python3.9/site-packages (from ipython->qiskit-textbook==0.1.0) (5.1.0)\n",
      "Requirement already satisfied: pexpect>4.3 in /Users/licious/opt/anaconda3/lib/python3.9/site-packages (from ipython->qiskit-textbook==0.1.0) (4.8.0)\n",
      "Requirement already satisfied: appnope in /Users/licious/opt/anaconda3/lib/python3.9/site-packages (from ipython->qiskit-textbook==0.1.0) (0.1.2)\n",
      "Requirement already satisfied: pickleshare in /Users/licious/opt/anaconda3/lib/python3.9/site-packages (from ipython->qiskit-textbook==0.1.0) (0.7.5)\n",
      "Requirement already satisfied: parso<0.9.0,>=0.8.0 in /Users/licious/opt/anaconda3/lib/python3.9/site-packages (from jedi>=0.16->ipython->qiskit-textbook==0.1.0) (0.8.2)\n",
      "Requirement already satisfied: ptyprocess>=0.5 in /Users/licious/opt/anaconda3/lib/python3.9/site-packages (from pexpect>4.3->ipython->qiskit-textbook==0.1.0) (0.7.0)\n",
      "Requirement already satisfied: wcwidth in /Users/licious/opt/anaconda3/lib/python3.9/site-packages (from prompt-toolkit!=3.0.0,!=3.0.1,<3.1.0,>=2.0.0->ipython->qiskit-textbook==0.1.0) (0.2.5)\n",
      "Requirement already satisfied: nbformat>=4.2.0 in /Users/licious/opt/anaconda3/lib/python3.9/site-packages (from ipywidgets->qiskit-textbook==0.1.0) (5.1.3)\n",
      "Requirement already satisfied: ipykernel>=4.5.1 in /Users/licious/opt/anaconda3/lib/python3.9/site-packages (from ipywidgets->qiskit-textbook==0.1.0) (6.4.1)\n",
      "Requirement already satisfied: jupyterlab-widgets>=1.0.0 in /Users/licious/opt/anaconda3/lib/python3.9/site-packages (from ipywidgets->qiskit-textbook==0.1.0) (1.0.0)\n",
      "Requirement already satisfied: widgetsnbextension~=3.5.0 in /Users/licious/opt/anaconda3/lib/python3.9/site-packages (from ipywidgets->qiskit-textbook==0.1.0) (3.5.1)\n",
      "Requirement already satisfied: ipython-genutils~=0.2.0 in /Users/licious/opt/anaconda3/lib/python3.9/site-packages (from ipywidgets->qiskit-textbook==0.1.0) (0.2.0)\n",
      "Requirement already satisfied: tornado<7.0,>=4.2 in /Users/licious/opt/anaconda3/lib/python3.9/site-packages (from ipykernel>=4.5.1->ipywidgets->qiskit-textbook==0.1.0) (6.1)\n",
      "Requirement already satisfied: jupyter-client<8.0 in /Users/licious/opt/anaconda3/lib/python3.9/site-packages (from ipykernel>=4.5.1->ipywidgets->qiskit-textbook==0.1.0) (6.1.12)\n",
      "Requirement already satisfied: debugpy<2.0,>=1.0.0 in /Users/licious/opt/anaconda3/lib/python3.9/site-packages (from ipykernel>=4.5.1->ipywidgets->qiskit-textbook==0.1.0) (1.4.1)\n",
      "Requirement already satisfied: jupyter-core>=4.6.0 in /Users/licious/opt/anaconda3/lib/python3.9/site-packages (from jupyter-client<8.0->ipykernel>=4.5.1->ipywidgets->qiskit-textbook==0.1.0) (4.8.1)\n",
      "Requirement already satisfied: pyzmq>=13 in /Users/licious/opt/anaconda3/lib/python3.9/site-packages (from jupyter-client<8.0->ipykernel>=4.5.1->ipywidgets->qiskit-textbook==0.1.0) (22.2.1)\n",
      "Requirement already satisfied: python-dateutil>=2.1 in /Users/licious/opt/anaconda3/lib/python3.9/site-packages (from jupyter-client<8.0->ipykernel>=4.5.1->ipywidgets->qiskit-textbook==0.1.0) (2.8.2)\n",
      "Requirement already satisfied: jsonschema!=2.5.0,>=2.4 in /Users/licious/opt/anaconda3/lib/python3.9/site-packages (from nbformat>=4.2.0->ipywidgets->qiskit-textbook==0.1.0) (3.2.0)\n",
      "Requirement already satisfied: six>=1.11.0 in /Users/licious/opt/anaconda3/lib/python3.9/site-packages (from jsonschema!=2.5.0,>=2.4->nbformat>=4.2.0->ipywidgets->qiskit-textbook==0.1.0) (1.16.0)\n",
      "Requirement already satisfied: pyrsistent>=0.14.0 in /Users/licious/opt/anaconda3/lib/python3.9/site-packages (from jsonschema!=2.5.0,>=2.4->nbformat>=4.2.0->ipywidgets->qiskit-textbook==0.1.0) (0.18.0)\n",
      "Requirement already satisfied: attrs>=17.4.0 in /Users/licious/opt/anaconda3/lib/python3.9/site-packages (from jsonschema!=2.5.0,>=2.4->nbformat>=4.2.0->ipywidgets->qiskit-textbook==0.1.0) (21.2.0)\n",
      "Requirement already satisfied: notebook>=4.4.1 in /Users/licious/opt/anaconda3/lib/python3.9/site-packages (from widgetsnbextension~=3.5.0->ipywidgets->qiskit-textbook==0.1.0) (6.4.5)\n",
      "Requirement already satisfied: jinja2 in /Users/licious/opt/anaconda3/lib/python3.9/site-packages (from notebook>=4.4.1->widgetsnbextension~=3.5.0->ipywidgets->qiskit-textbook==0.1.0) (2.11.3)\n",
      "Requirement already satisfied: nbconvert in /Users/licious/opt/anaconda3/lib/python3.9/site-packages (from notebook>=4.4.1->widgetsnbextension~=3.5.0->ipywidgets->qiskit-textbook==0.1.0) (6.1.0)\n",
      "Requirement already satisfied: argon2-cffi in /Users/licious/opt/anaconda3/lib/python3.9/site-packages (from notebook>=4.4.1->widgetsnbextension~=3.5.0->ipywidgets->qiskit-textbook==0.1.0) (20.1.0)\n",
      "Requirement already satisfied: prometheus-client in /Users/licious/opt/anaconda3/lib/python3.9/site-packages (from notebook>=4.4.1->widgetsnbextension~=3.5.0->ipywidgets->qiskit-textbook==0.1.0) (0.11.0)\n",
      "Requirement already satisfied: Send2Trash>=1.5.0 in /Users/licious/opt/anaconda3/lib/python3.9/site-packages (from notebook>=4.4.1->widgetsnbextension~=3.5.0->ipywidgets->qiskit-textbook==0.1.0) (1.8.0)\n",
      "Requirement already satisfied: terminado>=0.8.3 in /Users/licious/opt/anaconda3/lib/python3.9/site-packages (from notebook>=4.4.1->widgetsnbextension~=3.5.0->ipywidgets->qiskit-textbook==0.1.0) (0.9.4)\n",
      "Requirement already satisfied: cffi>=1.0.0 in /Users/licious/opt/anaconda3/lib/python3.9/site-packages (from argon2-cffi->notebook>=4.4.1->widgetsnbextension~=3.5.0->ipywidgets->qiskit-textbook==0.1.0) (1.14.6)\n",
      "Requirement already satisfied: pycparser in /Users/licious/opt/anaconda3/lib/python3.9/site-packages (from cffi>=1.0.0->argon2-cffi->notebook>=4.4.1->widgetsnbextension~=3.5.0->ipywidgets->qiskit-textbook==0.1.0) (2.20)\n",
      "Requirement already satisfied: MarkupSafe>=0.23 in /Users/licious/opt/anaconda3/lib/python3.9/site-packages (from jinja2->notebook>=4.4.1->widgetsnbextension~=3.5.0->ipywidgets->qiskit-textbook==0.1.0) (1.1.1)\n",
      "Requirement already satisfied: pyparsing>=2.2.1 in /Users/licious/opt/anaconda3/lib/python3.9/site-packages (from matplotlib->qiskit-textbook==0.1.0) (3.0.4)\n",
      "Requirement already satisfied: kiwisolver>=1.0.1 in /Users/licious/opt/anaconda3/lib/python3.9/site-packages (from matplotlib->qiskit-textbook==0.1.0) (1.3.1)\n",
      "Requirement already satisfied: pillow>=6.2.0 in /Users/licious/opt/anaconda3/lib/python3.9/site-packages (from matplotlib->qiskit-textbook==0.1.0) (8.4.0)\n",
      "Requirement already satisfied: cycler>=0.10 in /Users/licious/opt/anaconda3/lib/python3.9/site-packages (from matplotlib->qiskit-textbook==0.1.0) (0.10.0)\n",
      "Requirement already satisfied: nbclient<0.6.0,>=0.5.0 in /Users/licious/opt/anaconda3/lib/python3.9/site-packages (from nbconvert->notebook>=4.4.1->widgetsnbextension~=3.5.0->ipywidgets->qiskit-textbook==0.1.0) (0.5.3)\n",
      "Requirement already satisfied: jupyterlab-pygments in /Users/licious/opt/anaconda3/lib/python3.9/site-packages (from nbconvert->notebook>=4.4.1->widgetsnbextension~=3.5.0->ipywidgets->qiskit-textbook==0.1.0) (0.1.2)\n",
      "Requirement already satisfied: mistune<2,>=0.8.1 in /Users/licious/opt/anaconda3/lib/python3.9/site-packages (from nbconvert->notebook>=4.4.1->widgetsnbextension~=3.5.0->ipywidgets->qiskit-textbook==0.1.0) (0.8.4)\n",
      "Requirement already satisfied: defusedxml in /Users/licious/opt/anaconda3/lib/python3.9/site-packages (from nbconvert->notebook>=4.4.1->widgetsnbextension~=3.5.0->ipywidgets->qiskit-textbook==0.1.0) (0.7.1)\n",
      "Requirement already satisfied: bleach in /Users/licious/opt/anaconda3/lib/python3.9/site-packages (from nbconvert->notebook>=4.4.1->widgetsnbextension~=3.5.0->ipywidgets->qiskit-textbook==0.1.0) (4.0.0)\n",
      "Requirement already satisfied: entrypoints>=0.2.2 in /Users/licious/opt/anaconda3/lib/python3.9/site-packages (from nbconvert->notebook>=4.4.1->widgetsnbextension~=3.5.0->ipywidgets->qiskit-textbook==0.1.0) (0.3)\n",
      "Requirement already satisfied: pandocfilters>=1.4.1 in /Users/licious/opt/anaconda3/lib/python3.9/site-packages (from nbconvert->notebook>=4.4.1->widgetsnbextension~=3.5.0->ipywidgets->qiskit-textbook==0.1.0) (1.4.3)\n",
      "Requirement already satisfied: testpath in /Users/licious/opt/anaconda3/lib/python3.9/site-packages (from nbconvert->notebook>=4.4.1->widgetsnbextension~=3.5.0->ipywidgets->qiskit-textbook==0.1.0) (0.5.0)\n",
      "Requirement already satisfied: nest-asyncio in /Users/licious/opt/anaconda3/lib/python3.9/site-packages (from nbclient<0.6.0,>=0.5.0->nbconvert->notebook>=4.4.1->widgetsnbextension~=3.5.0->ipywidgets->qiskit-textbook==0.1.0) (1.5.1)\n",
      "Requirement already satisfied: async-generator in /Users/licious/opt/anaconda3/lib/python3.9/site-packages (from nbclient<0.6.0,>=0.5.0->nbconvert->notebook>=4.4.1->widgetsnbextension~=3.5.0->ipywidgets->qiskit-textbook==0.1.0) (1.10)\n",
      "Requirement already satisfied: webencodings in /Users/licious/opt/anaconda3/lib/python3.9/site-packages (from bleach->nbconvert->notebook>=4.4.1->widgetsnbextension~=3.5.0->ipywidgets->qiskit-textbook==0.1.0) (0.5.1)\n",
      "Requirement already satisfied: packaging in /Users/licious/opt/anaconda3/lib/python3.9/site-packages (from bleach->nbconvert->notebook>=4.4.1->widgetsnbextension~=3.5.0->ipywidgets->qiskit-textbook==0.1.0) (21.0)\n",
      "Requirement already satisfied: qiskit-aer==0.10.2 in /Users/licious/opt/anaconda3/lib/python3.9/site-packages (from qiskit->qiskit-textbook==0.1.0) (0.10.2)\n",
      "Requirement already satisfied: qiskit-terra==0.19.1 in /Users/licious/opt/anaconda3/lib/python3.9/site-packages (from qiskit->qiskit-textbook==0.1.0) (0.19.1)\n",
      "Requirement already satisfied: qiskit-ibmq-provider==0.18.3 in /Users/licious/opt/anaconda3/lib/python3.9/site-packages (from qiskit->qiskit-textbook==0.1.0) (0.18.3)\n",
      "Requirement already satisfied: qiskit-ignis==0.7.0 in /Users/licious/opt/anaconda3/lib/python3.9/site-packages (from qiskit->qiskit-textbook==0.1.0) (0.7.0)\n",
      "Requirement already satisfied: scipy>=1.0 in /Users/licious/opt/anaconda3/lib/python3.9/site-packages (from qiskit-aer==0.10.2->qiskit->qiskit-textbook==0.1.0) (1.7.1)\n",
      "Requirement already satisfied: requests>=2.19 in /Users/licious/opt/anaconda3/lib/python3.9/site-packages (from qiskit-ibmq-provider==0.18.3->qiskit->qiskit-textbook==0.1.0) (2.26.0)\n",
      "Requirement already satisfied: requests-ntlm>=1.1.0 in /Users/licious/opt/anaconda3/lib/python3.9/site-packages (from qiskit-ibmq-provider==0.18.3->qiskit->qiskit-textbook==0.1.0) (1.1.0)\n",
      "Requirement already satisfied: websocket-client>=1.0.1 in /Users/licious/opt/anaconda3/lib/python3.9/site-packages (from qiskit-ibmq-provider==0.18.3->qiskit->qiskit-textbook==0.1.0) (1.2.3)\n",
      "Requirement already satisfied: urllib3>=1.21.1 in /Users/licious/opt/anaconda3/lib/python3.9/site-packages (from qiskit-ibmq-provider==0.18.3->qiskit->qiskit-textbook==0.1.0) (1.26.7)\n",
      "Requirement already satisfied: retworkx>=0.8.0 in /Users/licious/opt/anaconda3/lib/python3.9/site-packages (from qiskit-ignis==0.7.0->qiskit->qiskit-textbook==0.1.0) (0.11.0)\n",
      "Requirement already satisfied: stevedore>=3.0.0 in /Users/licious/opt/anaconda3/lib/python3.9/site-packages (from qiskit-terra==0.19.1->qiskit->qiskit-textbook==0.1.0) (3.5.0)\n",
      "Requirement already satisfied: tweedledum<2.0,>=1.1 in /Users/licious/opt/anaconda3/lib/python3.9/site-packages (from qiskit-terra==0.19.1->qiskit->qiskit-textbook==0.1.0) (1.1.1)\n",
      "Requirement already satisfied: dill>=0.3 in /Users/licious/opt/anaconda3/lib/python3.9/site-packages (from qiskit-terra==0.19.1->qiskit->qiskit-textbook==0.1.0) (0.3.4)\n",
      "Requirement already satisfied: symengine>=0.8 in /Users/licious/opt/anaconda3/lib/python3.9/site-packages (from qiskit-terra==0.19.1->qiskit->qiskit-textbook==0.1.0) (0.8.1)\n",
      "Requirement already satisfied: sympy>=1.3 in /Users/licious/opt/anaconda3/lib/python3.9/site-packages (from qiskit-terra==0.19.1->qiskit->qiskit-textbook==0.1.0) (1.9)\n",
      "Requirement already satisfied: python-constraint>=1.4 in /Users/licious/opt/anaconda3/lib/python3.9/site-packages (from qiskit-terra==0.19.1->qiskit->qiskit-textbook==0.1.0) (1.4.0)\n",
      "Requirement already satisfied: ply>=3.10 in /Users/licious/opt/anaconda3/lib/python3.9/site-packages (from qiskit-terra==0.19.1->qiskit->qiskit-textbook==0.1.0) (3.11)\n",
      "Requirement already satisfied: psutil>=5 in /Users/licious/opt/anaconda3/lib/python3.9/site-packages (from qiskit-terra==0.19.1->qiskit->qiskit-textbook==0.1.0) (5.8.0)\n",
      "Requirement already satisfied: idna<4,>=2.5 in /Users/licious/opt/anaconda3/lib/python3.9/site-packages (from requests>=2.19->qiskit-ibmq-provider==0.18.3->qiskit->qiskit-textbook==0.1.0) (3.2)\n",
      "Requirement already satisfied: charset-normalizer~=2.0.0 in /Users/licious/opt/anaconda3/lib/python3.9/site-packages (from requests>=2.19->qiskit-ibmq-provider==0.18.3->qiskit->qiskit-textbook==0.1.0) (2.0.4)\n",
      "Requirement already satisfied: certifi>=2017.4.17 in /Users/licious/opt/anaconda3/lib/python3.9/site-packages (from requests>=2.19->qiskit-ibmq-provider==0.18.3->qiskit->qiskit-textbook==0.1.0) (2021.10.8)\n",
      "Requirement already satisfied: ntlm-auth>=1.0.2 in /Users/licious/opt/anaconda3/lib/python3.9/site-packages (from requests-ntlm>=1.1.0->qiskit-ibmq-provider==0.18.3->qiskit->qiskit-textbook==0.1.0) (1.5.0)\n",
      "Requirement already satisfied: cryptography>=1.3 in /Users/licious/opt/anaconda3/lib/python3.9/site-packages (from requests-ntlm>=1.1.0->qiskit-ibmq-provider==0.18.3->qiskit->qiskit-textbook==0.1.0) (3.4.8)\n",
      "Requirement already satisfied: pbr!=2.1.0,>=2.0.0 in /Users/licious/opt/anaconda3/lib/python3.9/site-packages (from stevedore>=3.0.0->qiskit-terra==0.19.1->qiskit->qiskit-textbook==0.1.0) (5.8.0)\n",
      "Requirement already satisfied: mpmath>=0.19 in /Users/licious/opt/anaconda3/lib/python3.9/site-packages (from sympy>=1.3->qiskit-terra==0.19.1->qiskit->qiskit-textbook==0.1.0) (1.2.1)\n",
      "Building wheels for collected packages: qiskit-textbook\n",
      "  Building wheel for qiskit-textbook (setup.py) ... \u001b[?25ldone\n",
      "\u001b[?25h  Created wheel for qiskit-textbook: filename=qiskit_textbook-0.1.0-py3-none-any.whl size=16948 sha256=cdf13cc468c7bc6ae7502ec3469899379697bcb896cc14828d4492e0345771ee\n",
      "  Stored in directory: /private/var/folders/8f/4b2m45n11v3_s7xc7ndmx0nw0000gp/T/pip-ephem-wheel-cache-p2te_bf_/wheels/75/76/cd/ff92751b9ab5f2d12c73e551ee92adf4615fb6b7d37b77f0e4\n",
      "Successfully built qiskit-textbook\n",
      "Installing collected packages: qiskit-textbook\n",
      "Successfully installed qiskit-textbook-0.1.0\n",
      "Note: you may need to restart the kernel to use updated packages.\n"
     ]
    }
   ],
   "source": [
    "pip install git+https://github.com/qiskit-community/qiskit-textbook.git#subdirectory=qiskit-textbook-src\n"
   ]
  },
  {
   "cell_type": "code",
   "execution_count": 92,
   "id": "d5335e28",
   "metadata": {},
   "outputs": [
    {
     "name": "stderr",
     "output_type": "stream",
     "text": [
      "configrc.store_credentials:WARNING:2022-03-22 21:33:40,442: Credentials already present. Set overwrite=True to overwrite.\n"
     ]
    },
    {
     "data": {
      "text/plain": [
       "<AccountProvider for IBMQ(hub='ibm-q', group='open', project='main')>"
      ]
     },
     "execution_count": 92,
     "metadata": {},
     "output_type": "execute_result"
    }
   ],
   "source": [
    "from qiskit import IBMQ\n",
    "IBMQ.save_account('9f8857f4b76aff1cf0d0a8f4476724e9218e4e2580c36e1997673d44aa8c14f2c0f458fe85cb1ebdcf47351ba88af4c4b0539d7db9d6d005c29153c3031c351a')\n",
    "provider = IBMQ.load_account()\n",
    "provider"
   ]
  },
  {
   "cell_type": "code",
   "execution_count": 88,
   "id": "28d3dc69",
   "metadata": {},
   "outputs": [
    {
     "data": {
      "text/html": [
       "<pre style=\"word-wrap: normal;white-space: pre;background: #fff0;line-height: 1.1;font-family: &quot;Courier New&quot;,Courier,monospace\">                ░ ┌─┐                     \n",
       "  q_0: |0>──────░─┤M├─────────────────────\n",
       "                ░ └╥┘┌─┐                  \n",
       "  q_1: |0>──────░──╫─┤M├──────────────────\n",
       "                ░  ║ └╥┘┌─┐               \n",
       "  q_2: |0>──────░──╫──╫─┤M├───────────────\n",
       "          ┌───┐ ░  ║  ║ └╥┘┌─┐            \n",
       "  q_3: |0>┤ X ├─░──╫──╫──╫─┤M├────────────\n",
       "          ├───┤ ░  ║  ║  ║ └╥┘┌─┐         \n",
       "  q_4: |0>┤ H ├─░──╫──╫──╫──╫─┤M├─────────\n",
       "          └───┘ ░  ║  ║  ║  ║ └╥┘┌─┐      \n",
       "  q_5: |0>──────░──╫──╫──╫──╫──╫─┤M├──────\n",
       "                ░  ║  ║  ║  ║  ║ └╥┘┌─┐   \n",
       "  q_6: |0>──────░──╫──╫──╫──╫──╫──╫─┤M├───\n",
       "                ░  ║  ║  ║  ║  ║  ║ └╥┘┌─┐\n",
       "  q_7: |0>──────░──╫──╫──╫──╫──╫──╫──╫─┤M├\n",
       "                ░  ║  ║  ║  ║  ║  ║  ║ └╥┘\n",
       "meas: 0 8/═════════╩══╩══╩══╩══╩══╩══╩══╩═\n",
       "                   0  1  2  3  4  5  6  7 </pre>"
      ],
      "text/plain": [
       "                ░ ┌─┐                     \n",
       "  q_0: |0>──────░─┤M├─────────────────────\n",
       "                ░ └╥┘┌─┐                  \n",
       "  q_1: |0>──────░──╫─┤M├──────────────────\n",
       "                ░  ║ └╥┘┌─┐               \n",
       "  q_2: |0>──────░──╫──╫─┤M├───────────────\n",
       "          ┌───┐ ░  ║  ║ └╥┘┌─┐            \n",
       "  q_3: |0>┤ X ├─░──╫──╫──╫─┤M├────────────\n",
       "          ├───┤ ░  ║  ║  ║ └╥┘┌─┐         \n",
       "  q_4: |0>┤ H ├─░──╫──╫──╫──╫─┤M├─────────\n",
       "          └───┘ ░  ║  ║  ║  ║ └╥┘┌─┐      \n",
       "  q_5: |0>──────░──╫──╫──╫──╫──╫─┤M├──────\n",
       "                ░  ║  ║  ║  ║  ║ └╥┘┌─┐   \n",
       "  q_6: |0>──────░──╫──╫──╫──╫──╫──╫─┤M├───\n",
       "                ░  ║  ║  ║  ║  ║  ║ └╥┘┌─┐\n",
       "  q_7: |0>──────░──╫──╫──╫──╫──╫──╫──╫─┤M├\n",
       "                ░  ║  ║  ║  ║  ║  ║  ║ └╥┘\n",
       "meas: 0 8/═════════╩══╩══╩══╩══╩══╩══╩══╩═\n",
       "                   0  1  2  3  4  5  6  7 "
      ]
     },
     "execution_count": 88,
     "metadata": {},
     "output_type": "execute_result"
    }
   ],
   "source": [
    "qc_output=QuantumCircuit(8)\n",
    "qc_output.x(3)\n",
    "qc_output.h(4)\n",
    "qc_output.measure_all()\n",
    "qc_output.draw(initial_state=True)"
   ]
  },
  {
   "cell_type": "code",
   "execution_count": 89,
   "id": "57181bf6",
   "metadata": {},
   "outputs": [
    {
     "data": {
      "image/png": "[encoded data removed]",
      "text/plain": [
       "<Figure size 504x360 with 1 Axes>"
      ]
     },
     "execution_count": 89,
     "metadata": {},
     "output_type": "execute_result"
    }
   ],
   "source": [
    "sim = Aer.get_backend('aer_simulator') \n",
    "result = sim.run(qc_output).result()\n",
    "counts = result.get_counts()\n",
    "plot_histogram(counts)"
   ]
  },
  {
   "cell_type": "code",
   "execution_count": 8,
   "id": "2a624b0a",
   "metadata": {},
   "outputs": [
    {
     "data": {
      "text/html": [
       "<pre style=\"word-wrap: normal;white-space: pre;background: #fff0;line-height: 1.1;font-family: &quot;Courier New&quot;,Courier,monospace\">     ┌───┐     ┌─┐   \n",
       "q_0: ┤ X ├──■──┤M├───\n",
       "     └───┘┌─┴─┐└╥┘┌─┐\n",
       "q_1: ─────┤ X ├─╫─┤M├\n",
       "          └───┘ ║ └╥┘\n",
       "c: 2/═══════════╩══╩═\n",
       "                0  1 </pre>"
      ],
      "text/plain": [
       "     ┌───┐     ┌─┐   \n",
       "q_0: ┤ X ├──■──┤M├───\n",
       "     └───┘┌─┴─┐└╥┘┌─┐\n",
       "q_1: ─────┤ X ├─╫─┤M├\n",
       "          └───┘ ║ └╥┘\n",
       "c: 2/═══════════╩══╩═\n",
       "                0  1 "
      ]
     },
     "execution_count": 8,
     "metadata": {},
     "output_type": "execute_result"
    }
   ],
   "source": [
    "qc = QuantumCircuit(2,2)\n",
    "qc.x(0)\n",
    "qc.cx(0,1)\n",
    "qc.measure(0,0)\n",
    "qc.measure(1,1)\n",
    "qc.draw()"
   ]
  },
  {
   "cell_type": "code",
   "execution_count": 9,
   "id": "e75dc549",
   "metadata": {},
   "outputs": [
    {
     "data": {
      "image/png": "[encoded data removed]",
      "text/plain": [
       "<Figure size 504x360 with 1 Axes>"
      ]
     },
     "execution_count": 9,
     "metadata": {},
     "output_type": "execute_result"
    }
   ],
   "source": [
    "sim = Aer.get_backend('aer_simulator') \n",
    "result = sim.run(qc).result()\n",
    "counts = result.get_counts()\n",
    "plot_histogram(counts)"
   ]
  },
  {
   "cell_type": "code",
   "execution_count": 26,
   "id": "f235c31a",
   "metadata": {},
   "outputs": [
    {
     "data": {
      "text/html": [
       "<pre style=\"word-wrap: normal;white-space: pre;background: #fff0;line-height: 1.1;font-family: &quot;Courier New&quot;,Courier,monospace\">     ┌───┐ ░            ░       \n",
       "q_0: ┤ X ├─░───■────────░───────\n",
       "     ├───┤ ░   │        ░       \n",
       "q_1: ┤ X ├─░───┼────■───░───────\n",
       "     └───┘ ░ ┌─┴─┐┌─┴─┐ ░ ┌─┐   \n",
       "q_2: ──────░─┤ X ├┤ X ├─░─┤M├───\n",
       "           ░ └───┘└───┘ ░ └╥┘┌─┐\n",
       "q_3: ──────░────────────░──╫─┤M├\n",
       "           ░            ░  ║ └╥┘\n",
       "c: 2/══════════════════════╩══╩═\n",
       "                           0  1 </pre>"
      ],
      "text/plain": [
       "     ┌───┐ ░            ░       \n",
       "q_0: ┤ X ├─░───■────────░───────\n",
       "     ├───┤ ░   │        ░       \n",
       "q_1: ┤ X ├─░───┼────■───░───────\n",
       "     └───┘ ░ ┌─┴─┐┌─┴─┐ ░ ┌─┐   \n",
       "q_2: ──────░─┤ X ├┤ X ├─░─┤M├───\n",
       "           ░ └───┘└───┘ ░ └╥┘┌─┐\n",
       "q_3: ──────░────────────░──╫─┤M├\n",
       "           ░            ░  ║ └╥┘\n",
       "c: 2/══════════════════════╩══╩═\n",
       "                           0  1 "
      ]
     },
     "execution_count": 26,
     "metadata": {},
     "output_type": "execute_result"
    }
   ],
   "source": [
    "qc_ha = QuantumCircuit(4,2)\n",
    "# encode inputs in qubits 0 and 1\n",
    "qc_ha.x(0) # For a=0, remove this line. For a=1, leave it.\n",
    "qc_ha.x(1) # For b=0, remove this line. For b=1, leave it.\n",
    "qc_ha.barrier()\n",
    "# use cnots to write the XOR of the inputs on qubit 2\n",
    "qc_ha.cx(0,2)\n",
    "qc_ha.cx(1,2)\n",
    "qc_ha.barrier()\n",
    "# extract outputs\n",
    "qc_ha.measure(2,0) # extract XOR value\n",
    "qc_ha.measure(3,1)\n",
    "\n",
    "qc_ha.draw()"
   ]
  },
  {
   "cell_type": "code",
   "execution_count": 25,
   "id": "5b067297",
   "metadata": {},
   "outputs": [
    {
     "data": {
      "image/png": "[encoded data removed]",
      "text/plain": [
       "<Figure size 504x360 with 1 Axes>"
      ]
     },
     "execution_count": 25,
     "metadata": {},
     "output_type": "execute_result"
    }
   ],
   "source": [
    "sim = Aer.get_backend('aer_simulator') \n",
    "result = sim.run(qc).result()\n",
    "counts = result.get_counts()\n",
    "plot_histogram(counts)"
   ]
  },
  {
   "cell_type": "markdown",
   "id": "47f7c230",
   "metadata": {},
   "source": [
    "# HALF ADDER\n",
    "\n"
   ]
  },
  {
   "cell_type": "code",
   "execution_count": 130,
   "id": "8ea3ac93",
   "metadata": {},
   "outputs": [
    {
     "data": {
      "text/html": [
       "<pre style=\"word-wrap: normal;white-space: pre;background: #fff0;line-height: 1.1;font-family: &quot;Courier New&quot;,Courier,monospace\">           ░                 ░       \n",
       "i_0: ──────░───■─────────■───░───────\n",
       "     ┌───┐ ░   │         │   ░       \n",
       "i_1: ┤ X ├─░───┼────■────■───░───────\n",
       "     └───┘ ░ ┌─┴─┐┌─┴─┐  │   ░ ┌─┐   \n",
       "i_2: ──────░─┤ X ├┤ X ├──┼───░─┤M├───\n",
       "           ░ └───┘└───┘┌─┴─┐ ░ └╥┘┌─┐\n",
       "i_3: ──────░───────────┤ X ├─░──╫─┤M├\n",
       "           ░           └───┘ ░  ║ └╥┘\n",
       "o: 2/═══════════════════════════╩══╩═\n",
       "                                1  1 </pre>"
      ],
      "text/plain": [
       "           ░                 ░       \n",
       "i_0: ──────░───■─────────■───░───────\n",
       "     ┌───┐ ░   │         │   ░       \n",
       "i_1: ┤ X ├─░───┼────■────■───░───────\n",
       "     └───┘ ░ ┌─┴─┐┌─┴─┐  │   ░ ┌─┐   \n",
       "i_2: ──────░─┤ X ├┤ X ├──┼───░─┤M├───\n",
       "           ░ └───┘└───┘┌─┴─┐ ░ └╥┘┌─┐\n",
       "i_3: ──────░───────────┤ X ├─░──╫─┤M├\n",
       "           ░           └───┘ ░  ║ └╥┘\n",
       "o: 2/═══════════════════════════╩══╩═\n",
       "                                1  1 "
      ]
     },
     "execution_count": 130,
     "metadata": {},
     "output_type": "execute_result"
    }
   ],
   "source": [
    "\n",
    "from qiskit import QuantumCircuit,QuantumRegister,ClassicalRegister,assemble,Aer\n",
    "from qiskit.visualization import plot_histogram\n",
    "\n",
    "\n",
    "cr= ClassicalRegister(2,'o')\n",
    "qr= QuantumRegister(4,'i')\n",
    "\n",
    "qc=QuantumCircuit(qr,cr)\n",
    "qc.x(1)\n",
    "#qc.x(0)\n",
    "qc.barrier()\n",
    "qc.cx(0,2)\n",
    "qc.cx(1,2)\n",
    "qc.ccx(0,1,3)\n",
    "qc.barrier()\n",
    "\n",
    "qc.measure(2,1)\n",
    "qc.measure(3,1)\n",
    "qc.draw()\n"
   ]
  },
  {
   "cell_type": "code",
   "execution_count": 131,
   "id": "fc01b034",
   "metadata": {},
   "outputs": [
    {
     "data": {
      "image/png": "[encoded data removed]",
      "text/plain": [
       "<Figure size 504x360 with 1 Axes>"
      ]
     },
     "execution_count": 131,
     "metadata": {},
     "output_type": "execute_result"
    }
   ],
   "source": [
    "\n",
    "sim = Aer.get_backend('aer_simulator') \n",
    "result = sim.run(qc).result()\n",
    "counts = result.get_counts()\n",
    "plot_histogram(counts)"
   ]
  },
  {
   "cell_type": "markdown",
   "id": "9b76b038",
   "metadata": {},
   "source": [
    "# FULL ADDER"
   ]
  },
  {
   "cell_type": "code",
   "execution_count": null,
   "id": "bbe3feeb",
   "metadata": {},
   "outputs": [],
   "source": [
    "\n",
    "\n",
    "\n",
    "q = QuantumRegister(5,'q')\n",
    "c = ClassicalRegister(2,'c')\n",
    "\n",
    "circuit = QuantumCircuit(q,c)\n",
    "#Input can cannot\n",
    "circuit.x(q[0])\n",
    "circuit.x(q[2])\n",
    "circuit.cx(q[0],q[3])\n",
    "circuit.cx(q[1],q[3])\n",
    "circuit.cx(q[2],q[3])\n",
    "circuit.ccx(q[0],q[1],q[4])\n",
    "circuit.ccx(q[0],q[2],q[4])\n",
    "circuit.ccx(q[1],q[2],q[4])\n",
    "\n",
    "circuit.measure(q[3],c[0])\n",
    "circuit.measure(q[4],c[1])\n",
    "circuit.draw(initial_state=True)\n"
   ]
  },
  {
   "cell_type": "code",
   "execution_count": 70,
   "id": "49a46097",
   "metadata": {},
   "outputs": [
    {
     "data": {
      "image/png": "[encoded data removed]",
      "text/plain": [
       "<Figure size 504x360 with 1 Axes>"
      ]
     },
     "execution_count": 70,
     "metadata": {},
     "output_type": "execute_result"
    }
   ],
   "source": [
    "\n",
    "sim = Aer.get_backend('aer_simulator') \n",
    "result = sim.run(circuit).result()\n",
    "counts = result.get_counts()\n",
    "plot_histogram(counts)"
   ]
  },
  {
   "cell_type": "markdown",
   "id": "18dd4f1a",
   "metadata": {},
   "source": [
    "# Create a Quantum Circuit acting\n",
    "# on the q register"
   ]
  },
  {
   "cell_type": "code",
   "execution_count": 132,
   "id": "2ec289e5",
   "metadata": {},
   "outputs": [
    {
     "name": "stdout",
     "output_type": "stream",
     "text": [
      "\n",
      "Total count for 00 and 11 are: {'00': 481, '11': 519}\n"
     ]
    },
    {
     "data": {
      "text/html": [
       "<pre style=\"word-wrap: normal;white-space: pre;background: #fff0;line-height: 1.1;font-family: &quot;Courier New&quot;,Courier,monospace\">     ┌───┐     ┌─┐   \n",
       "q_0: ┤ H ├──■──┤M├───\n",
       "     └───┘┌─┴─┐└╥┘┌─┐\n",
       "q_1: ─────┤ X ├─╫─┤M├\n",
       "          └───┘ ║ └╥┘\n",
       "c: 2/═══════════╩══╩═\n",
       "                0  1 </pre>"
      ],
      "text/plain": [
       "     ┌───┐     ┌─┐   \n",
       "q_0: ┤ H ├──■──┤M├───\n",
       "     └───┘┌─┴─┐└╥┘┌─┐\n",
       "q_1: ─────┤ X ├─╫─┤M├\n",
       "          └───┘ ║ └╥┘\n",
       "c: 2/═══════════╩══╩═\n",
       "                0  1 "
      ]
     },
     "execution_count": 132,
     "metadata": {},
     "output_type": "execute_result"
    }
   ],
   "source": [
    "\n",
    "\n",
    "\n",
    "circuit = QuantumCircuit(2, 2)\n",
    "\n",
    "# Add a H gate on qubit 0\n",
    "circuit.h(0)\n",
    "\n",
    "# Add a CX (CNOT) gate on control\n",
    "# qubit 0 and target qubit 1\n",
    "circuit.cx(0, 1)\n",
    "\n",
    "# Map the quantum measurement to the\n",
    "# classical bits\n",
    "circuit.measure([0,1], [0,1])\n",
    "\n",
    "# circuit.measure_all()\n",
    "# Use Aer's qasm_simulator\n",
    "simulator = Aer.get_backend('qasm_simulator')\n",
    "\n",
    "# Execute the circuit on the qasm\n",
    "# simulator\n",
    "job = execute(circuit, simulator, shots=1000)\n",
    "\n",
    "# Grab results from the job\n",
    "result = job.result()\n",
    "\n",
    "# Return counts\n",
    "counts = result.get_counts(circuit)\n",
    "print(\"\\nTotal count for 00 and 11 are:\",counts)\n",
    "\n",
    "# Draw the circuit\n",
    "circuit.draw()\n"
   ]
  },
  {
   "cell_type": "code",
   "execution_count": 135,
   "id": "b4716a92",
   "metadata": {},
   "outputs": [
    {
     "data": {
      "image/png": "[encoded data removed]",
      "text/plain": [
       "<Figure size 504x360 with 1 Axes>"
      ]
     },
     "execution_count": 135,
     "metadata": {},
     "output_type": "execute_result"
    }
   ],
   "source": [
    "sim = Aer.get_backend('aer_simulator') \n",
    "result = sim.run(circuit).result()\n",
    "counts = result.get_counts()\n",
    "plot_histogram(counts)"
   ]
  },
  {
   "cell_type": "markdown",
   "id": "66f620f8",
   "metadata": {},
   "source": [
    "# SAVING STATE OF VECTORS ... INITIALIZING A QUIBIT WITH STATE 1\n"
   ]
  },
  {
   "cell_type": "code",
   "execution_count": 134,
   "id": "6ccbaad1",
   "metadata": {},
   "outputs": [
    {
     "name": "stdout",
     "output_type": "stream",
     "text": [
      "Statevector([0.+0.j, 1.+0.j],\n",
      "            dims=(2,))\n"
     ]
    },
    {
     "data": {
      "text/html": [
       "<pre style=\"word-wrap: normal;white-space: pre;background: #fff0;line-height: 1.1;font-family: &quot;Courier New&quot;,Courier,monospace\">        ┌─────────────────┐ ░  ░ ┌─┐\n",
       "     q: ┤ Initialize(0,1) ├─░──░─┤M├\n",
       "        └─────────────────┘ ░  ░ └╥┘\n",
       "meas: 1/══════════════════════════╩═\n",
       "                                  0 </pre>"
      ],
      "text/plain": [
       "        ┌─────────────────┐ ░  ░ ┌─┐\n",
       "     q: ┤ Initialize(0,1) ├─░──░─┤M├\n",
       "        └─────────────────┘ ░  ░ └╥┘\n",
       "meas: 1/══════════════════════════╩═\n",
       "                                  0 "
      ]
     },
     "execution_count": 134,
     "metadata": {},
     "output_type": "execute_result"
    }
   ],
   "source": [
    "\n",
    "qc = QuantumCircuit(1)  # Create a quantum circuit with one qubit\n",
    "initial_state = [0,1]   # Define initial_state as |1>\n",
    "qc.initialize(initial_state, 0) # Apply initialisation operation to the 0th qubit\n",
    "qc.save_statevector()   # Tell simulator to save statevector\n",
    "qobj = assemble(qc)     # Create a Qobj from the circuit for the simulator to run\n",
    "result = sim.run(qobj).result() # Do the simulation and return the result\n",
    "print(result.get_statevector())\n",
    "qc.measure_all()\n",
    "qc.draw()"
   ]
  },
  {
   "cell_type": "code",
   "execution_count": 126,
   "id": "221550b6",
   "metadata": {},
   "outputs": [
    {
     "data": {
      "image/png": "[encoded data removed]",
      "text/plain": [
       "<Figure size 504x360 with 1 Axes>"
      ]
     },
     "execution_count": 126,
     "metadata": {},
     "output_type": "execute_result"
    }
   ],
   "source": [
    "qobj = assemble(qc)\n",
    "result = sim.run(qobj).result()\n",
    "counts = result.get_counts()\n",
    "plot_histogram(counts)"
   ]
  },
  {
   "cell_type": "markdown",
   "id": "20d18d62",
   "metadata": {},
   "source": [
    "#  IMAGINARY NUMBERS\n",
    "\n"
   ]
  },
  {
   "cell_type": "code",
   "execution_count": 149,
   "id": "05fc4974",
   "metadata": {},
   "outputs": [
    {
     "name": "stdout",
     "output_type": "stream",
     "text": [
      "Statevector([0.70710678+0.j        , 0.        +0.70710678j],\n",
      "            dims=(2,))\n"
     ]
    }
   ],
   "source": [
    "import numpy\n",
    "#SAVING STATE OF VECTORS\n",
    "#INITIALIZING A QUIBIT WITH STATE 0 AND 1\n",
    "initial_state = [1/sqrt(2), 1j/sqrt(2)]  # Define state |q_0>\n",
    "\n",
    "\n",
    "qc = QuantumCircuit(1) # Must redefine qc\n",
    "qc.initialize(initial_state, 0) # Initialize the 0th qubit in the state `initial_state`\n",
    "qc.save_statevector() # Save statevector\n",
    "qobj = assemble(qc)\n",
    "state = sim.run(qobj).result().get_statevector() # Execute the circuit\n",
    "print(state)           # Print the result"
   ]
  },
  {
   "cell_type": "code",
   "execution_count": 150,
   "id": "84ab43b3",
   "metadata": {},
   "outputs": [
    {
     "data": {
      "image/png": "[encoded data removed]",
      "text/plain": [
       "<Figure size 504x360 with 1 Axes>"
      ]
     },
     "execution_count": 150,
     "metadata": {},
     "output_type": "execute_result"
    }
   ],
   "source": [
    "qobj = assemble(qc)\n",
    "results = sim.run(qobj).result().get_counts()\n",
    "plot_histogram(results)"
   ]
  },
  {
   "cell_type": "code",
   "execution_count": 154,
   "id": "089fd92f",
   "metadata": {},
   "outputs": [
    {
     "name": "stdout",
     "output_type": "stream",
     "text": [
      "Statevector([0.        +0.57735027j, 0.81649658+0.j        ],\n",
      "            dims=(2,))\n"
     ]
    }
   ],
   "source": [
    "initial_state = [1j/sqrt(3), sqrt(2/3)]  # Define state |q_0>\n",
    "\n",
    "\n",
    "qc = QuantumCircuit(1) # Must redefine qc\n",
    "qc.initialize(initial_state, 0) # Initialize the 0th qubit in the state `initial_state`\n",
    "qc.save_statevector() # Save statevector\n",
    "qobj = assemble(qc)\n",
    "state = sim.run(qobj).result().get_statevector() # Execute the circuit\n",
    "print(state)  "
   ]
  },
  {
   "cell_type": "code",
   "execution_count": 155,
   "id": "f49cfa26",
   "metadata": {},
   "outputs": [
    {
     "data": {
      "image/png": "[encoded data removed]",
      "text/plain": [
       "<Figure size 504x360 with 1 Axes>"
      ]
     },
     "execution_count": 155,
     "metadata": {},
     "output_type": "execute_result"
    }
   ],
   "source": [
    "qobj = assemble(qc)\n",
    "results = sim.run(qobj).result().get_counts()\n",
    "plot_histogram(results)"
   ]
  },
  {
   "cell_type": "markdown",
   "id": "9d1b6986",
   "metadata": {},
   "source": [
    "# PAULI GATE"
   ]
  },
  {
   "cell_type": "code",
   "execution_count": 161,
   "id": "88f24f9e",
   "metadata": {},
   "outputs": [],
   "source": [
    "from qiskit.visualization import plot_bloch_multivector, plot_histogram\n",
    "from qiskit import QuantumCircuit, assemble, Aer\n",
    "from math import pi, sqrt"
   ]
  },
  {
   "cell_type": "code",
   "execution_count": 165,
   "id": "3a368bdd",
   "metadata": {},
   "outputs": [
    {
     "data": {
      "text/html": [
       "<pre style=\"word-wrap: normal;white-space: pre;background: #fff0;line-height: 1.1;font-family: &quot;Courier New&quot;,Courier,monospace\">   ┌───┐\n",
       "q: ┤ X ├\n",
       "   └───┘</pre>"
      ],
      "text/plain": [
       "   ┌───┐\n",
       "q: ┤ X ├\n",
       "   └───┘"
      ]
     },
     "execution_count": 165,
     "metadata": {},
     "output_type": "execute_result"
    }
   ],
   "source": [
    "# Let's do an X-gate on a |0> qubit\n",
    "qc = QuantumCircuit(1)\n",
    "qc.x(0)\n",
    "qc.draw()"
   ]
  },
  {
   "cell_type": "code",
   "execution_count": 163,
   "id": "8854a85e",
   "metadata": {},
   "outputs": [
    {
     "ename": "AttributeError",
     "evalue": "'Arrow3D' object has no attribute '_path2d'",
     "output_type": "error",
     "traceback": [
      "\u001b[0;31m---------------------------------------------------------------------------\u001b[0m",
      "\u001b[0;31mAttributeError\u001b[0m                            Traceback (most recent call last)",
      "\u001b[0;32m~/opt/anaconda3/lib/python3.9/site-packages/IPython/core/formatters.py\u001b[0m in \u001b[0;36m__call__\u001b[0;34m(self, obj)\u001b[0m\n\u001b[1;32m    339\u001b[0m                 \u001b[0;32mpass\u001b[0m\u001b[0;34m\u001b[0m\u001b[0;34m\u001b[0m\u001b[0m\n\u001b[1;32m    340\u001b[0m             \u001b[0;32melse\u001b[0m\u001b[0;34m:\u001b[0m\u001b[0;34m\u001b[0m\u001b[0;34m\u001b[0m\u001b[0m\n\u001b[0;32m--> 341\u001b[0;31m                 \u001b[0;32mreturn\u001b[0m \u001b[0mprinter\u001b[0m\u001b[0;34m(\u001b[0m\u001b[0mobj\u001b[0m\u001b[0;34m)\u001b[0m\u001b[0;34m\u001b[0m\u001b[0;34m\u001b[0m\u001b[0m\n\u001b[0m\u001b[1;32m    342\u001b[0m             \u001b[0;31m# Finally look for special method names\u001b[0m\u001b[0;34m\u001b[0m\u001b[0;34m\u001b[0m\u001b[0m\n\u001b[1;32m    343\u001b[0m             \u001b[0mmethod\u001b[0m \u001b[0;34m=\u001b[0m \u001b[0mget_real_method\u001b[0m\u001b[0;34m(\u001b[0m\u001b[0mobj\u001b[0m\u001b[0;34m,\u001b[0m \u001b[0mself\u001b[0m\u001b[0;34m.\u001b[0m\u001b[0mprint_method\u001b[0m\u001b[0;34m)\u001b[0m\u001b[0;34m\u001b[0m\u001b[0;34m\u001b[0m\u001b[0m\n",
      "\u001b[0;32m~/opt/anaconda3/lib/python3.9/site-packages/IPython/core/pylabtools.py\u001b[0m in \u001b[0;36mprint_figure\u001b[0;34m(fig, fmt, bbox_inches, base64, **kwargs)\u001b[0m\n\u001b[1;32m    149\u001b[0m         \u001b[0mFigureCanvasBase\u001b[0m\u001b[0;34m(\u001b[0m\u001b[0mfig\u001b[0m\u001b[0;34m)\u001b[0m\u001b[0;34m\u001b[0m\u001b[0;34m\u001b[0m\u001b[0m\n\u001b[1;32m    150\u001b[0m \u001b[0;34m\u001b[0m\u001b[0m\n\u001b[0;32m--> 151\u001b[0;31m     \u001b[0mfig\u001b[0m\u001b[0;34m.\u001b[0m\u001b[0mcanvas\u001b[0m\u001b[0;34m.\u001b[0m\u001b[0mprint_figure\u001b[0m\u001b[0;34m(\u001b[0m\u001b[0mbytes_io\u001b[0m\u001b[0;34m,\u001b[0m \u001b[0;34m**\u001b[0m\u001b[0mkw\u001b[0m\u001b[0;34m)\u001b[0m\u001b[0;34m\u001b[0m\u001b[0;34m\u001b[0m\u001b[0m\n\u001b[0m\u001b[1;32m    152\u001b[0m     \u001b[0mdata\u001b[0m \u001b[0;34m=\u001b[0m \u001b[0mbytes_io\u001b[0m\u001b[0;34m.\u001b[0m\u001b[0mgetvalue\u001b[0m\u001b[0;34m(\u001b[0m\u001b[0;34m)\u001b[0m\u001b[0;34m\u001b[0m\u001b[0;34m\u001b[0m\u001b[0m\n\u001b[1;32m    153\u001b[0m     \u001b[0;32mif\u001b[0m \u001b[0mfmt\u001b[0m \u001b[0;34m==\u001b[0m \u001b[0;34m'svg'\u001b[0m\u001b[0;34m:\u001b[0m\u001b[0;34m\u001b[0m\u001b[0;34m\u001b[0m\u001b[0m\n",
      "\u001b[0;32m~/opt/anaconda3/lib/python3.9/site-packages/matplotlib/backend_bases.py\u001b[0m in \u001b[0;36mprint_figure\u001b[0;34m(self, filename, dpi, facecolor, edgecolor, orientation, format, bbox_inches, pad_inches, bbox_extra_artists, backend, **kwargs)\u001b[0m\n\u001b[1;32m   2232\u001b[0m             \u001b[0;32mif\u001b[0m \u001b[0mbbox_inches\u001b[0m\u001b[0;34m:\u001b[0m\u001b[0;34m\u001b[0m\u001b[0;34m\u001b[0m\u001b[0m\n\u001b[1;32m   2233\u001b[0m                 \u001b[0;32mif\u001b[0m \u001b[0mbbox_inches\u001b[0m \u001b[0;34m==\u001b[0m \u001b[0;34m\"tight\"\u001b[0m\u001b[0;34m:\u001b[0m\u001b[0;34m\u001b[0m\u001b[0;34m\u001b[0m\u001b[0m\n\u001b[0;32m-> 2234\u001b[0;31m                     bbox_inches = self.figure.get_tightbbox(\n\u001b[0m\u001b[1;32m   2235\u001b[0m                         renderer, bbox_extra_artists=bbox_extra_artists)\n\u001b[1;32m   2236\u001b[0m                     \u001b[0;32mif\u001b[0m \u001b[0mpad_inches\u001b[0m \u001b[0;32mis\u001b[0m \u001b[0;32mNone\u001b[0m\u001b[0;34m:\u001b[0m\u001b[0;34m\u001b[0m\u001b[0;34m\u001b[0m\u001b[0m\n",
      "\u001b[0;32m~/opt/anaconda3/lib/python3.9/site-packages/matplotlib/figure.py\u001b[0m in \u001b[0;36mget_tightbbox\u001b[0;34m(self, renderer, bbox_extra_artists)\u001b[0m\n\u001b[1;32m   1637\u001b[0m \u001b[0;34m\u001b[0m\u001b[0m\n\u001b[1;32m   1638\u001b[0m         \u001b[0;32mfor\u001b[0m \u001b[0ma\u001b[0m \u001b[0;32min\u001b[0m \u001b[0martists\u001b[0m\u001b[0;34m:\u001b[0m\u001b[0;34m\u001b[0m\u001b[0;34m\u001b[0m\u001b[0m\n\u001b[0;32m-> 1639\u001b[0;31m             \u001b[0mbbox\u001b[0m \u001b[0;34m=\u001b[0m \u001b[0ma\u001b[0m\u001b[0;34m.\u001b[0m\u001b[0mget_tightbbox\u001b[0m\u001b[0;34m(\u001b[0m\u001b[0mrenderer\u001b[0m\u001b[0;34m)\u001b[0m\u001b[0;34m\u001b[0m\u001b[0;34m\u001b[0m\u001b[0m\n\u001b[0m\u001b[1;32m   1640\u001b[0m             \u001b[0;32mif\u001b[0m \u001b[0mbbox\u001b[0m \u001b[0;32mis\u001b[0m \u001b[0;32mnot\u001b[0m \u001b[0;32mNone\u001b[0m \u001b[0;32mand\u001b[0m \u001b[0;34m(\u001b[0m\u001b[0mbbox\u001b[0m\u001b[0;34m.\u001b[0m\u001b[0mwidth\u001b[0m \u001b[0;34m!=\u001b[0m \u001b[0;36m0\u001b[0m \u001b[0;32mor\u001b[0m \u001b[0mbbox\u001b[0m\u001b[0;34m.\u001b[0m\u001b[0mheight\u001b[0m \u001b[0;34m!=\u001b[0m \u001b[0;36m0\u001b[0m\u001b[0;34m)\u001b[0m\u001b[0;34m:\u001b[0m\u001b[0;34m\u001b[0m\u001b[0;34m\u001b[0m\u001b[0m\n\u001b[1;32m   1641\u001b[0m                 \u001b[0mbb\u001b[0m\u001b[0;34m.\u001b[0m\u001b[0mappend\u001b[0m\u001b[0;34m(\u001b[0m\u001b[0mbbox\u001b[0m\u001b[0;34m)\u001b[0m\u001b[0;34m\u001b[0m\u001b[0;34m\u001b[0m\u001b[0m\n",
      "\u001b[0;32m~/opt/anaconda3/lib/python3.9/site-packages/matplotlib/artist.py\u001b[0m in \u001b[0;36mget_tightbbox\u001b[0;34m(self, renderer)\u001b[0m\n\u001b[1;32m    304\u001b[0m             \u001b[0mThe\u001b[0m \u001b[0menclosing\u001b[0m \u001b[0mbounding\u001b[0m \u001b[0mbox\u001b[0m \u001b[0;34m(\u001b[0m\u001b[0;32min\u001b[0m \u001b[0mfigure\u001b[0m \u001b[0mpixel\u001b[0m \u001b[0mcoordinates\u001b[0m\u001b[0;34m)\u001b[0m\u001b[0;34m.\u001b[0m\u001b[0;34m\u001b[0m\u001b[0;34m\u001b[0m\u001b[0m\n\u001b[1;32m    305\u001b[0m         \"\"\"\n\u001b[0;32m--> 306\u001b[0;31m         \u001b[0mbbox\u001b[0m \u001b[0;34m=\u001b[0m \u001b[0mself\u001b[0m\u001b[0;34m.\u001b[0m\u001b[0mget_window_extent\u001b[0m\u001b[0;34m(\u001b[0m\u001b[0mrenderer\u001b[0m\u001b[0;34m)\u001b[0m\u001b[0;34m\u001b[0m\u001b[0;34m\u001b[0m\u001b[0m\n\u001b[0m\u001b[1;32m    307\u001b[0m         \u001b[0;32mif\u001b[0m \u001b[0mself\u001b[0m\u001b[0;34m.\u001b[0m\u001b[0mget_clip_on\u001b[0m\u001b[0;34m(\u001b[0m\u001b[0;34m)\u001b[0m\u001b[0;34m:\u001b[0m\u001b[0;34m\u001b[0m\u001b[0;34m\u001b[0m\u001b[0m\n\u001b[1;32m    308\u001b[0m             \u001b[0mclip_box\u001b[0m \u001b[0;34m=\u001b[0m \u001b[0mself\u001b[0m\u001b[0;34m.\u001b[0m\u001b[0mget_clip_box\u001b[0m\u001b[0;34m(\u001b[0m\u001b[0;34m)\u001b[0m\u001b[0;34m\u001b[0m\u001b[0;34m\u001b[0m\u001b[0m\n",
      "\u001b[0;32m~/opt/anaconda3/lib/python3.9/site-packages/matplotlib/patches.py\u001b[0m in \u001b[0;36mget_window_extent\u001b[0;34m(self, renderer)\u001b[0m\n\u001b[1;32m    619\u001b[0m \u001b[0;34m\u001b[0m\u001b[0m\n\u001b[1;32m    620\u001b[0m     \u001b[0;32mdef\u001b[0m \u001b[0mget_window_extent\u001b[0m\u001b[0;34m(\u001b[0m\u001b[0mself\u001b[0m\u001b[0;34m,\u001b[0m \u001b[0mrenderer\u001b[0m\u001b[0;34m=\u001b[0m\u001b[0;32mNone\u001b[0m\u001b[0;34m)\u001b[0m\u001b[0;34m:\u001b[0m\u001b[0;34m\u001b[0m\u001b[0;34m\u001b[0m\u001b[0m\n\u001b[0;32m--> 621\u001b[0;31m         \u001b[0;32mreturn\u001b[0m \u001b[0mself\u001b[0m\u001b[0;34m.\u001b[0m\u001b[0mget_path\u001b[0m\u001b[0;34m(\u001b[0m\u001b[0;34m)\u001b[0m\u001b[0;34m.\u001b[0m\u001b[0mget_extents\u001b[0m\u001b[0;34m(\u001b[0m\u001b[0mself\u001b[0m\u001b[0;34m.\u001b[0m\u001b[0mget_transform\u001b[0m\u001b[0;34m(\u001b[0m\u001b[0;34m)\u001b[0m\u001b[0;34m)\u001b[0m\u001b[0;34m\u001b[0m\u001b[0;34m\u001b[0m\u001b[0m\n\u001b[0m\u001b[1;32m    622\u001b[0m \u001b[0;34m\u001b[0m\u001b[0m\n\u001b[1;32m    623\u001b[0m     \u001b[0;32mdef\u001b[0m \u001b[0m_convert_xy_units\u001b[0m\u001b[0;34m(\u001b[0m\u001b[0mself\u001b[0m\u001b[0;34m,\u001b[0m \u001b[0mxy\u001b[0m\u001b[0;34m)\u001b[0m\u001b[0;34m:\u001b[0m\u001b[0;34m\u001b[0m\u001b[0;34m\u001b[0m\u001b[0m\n",
      "\u001b[0;32m~/opt/anaconda3/lib/python3.9/site-packages/mpl_toolkits/mplot3d/art3d.py\u001b[0m in \u001b[0;36mget_path\u001b[0;34m(self)\u001b[0m\n\u001b[1;32m    345\u001b[0m \u001b[0;34m\u001b[0m\u001b[0m\n\u001b[1;32m    346\u001b[0m     \u001b[0;32mdef\u001b[0m \u001b[0mget_path\u001b[0m\u001b[0;34m(\u001b[0m\u001b[0mself\u001b[0m\u001b[0;34m)\u001b[0m\u001b[0;34m:\u001b[0m\u001b[0;34m\u001b[0m\u001b[0;34m\u001b[0m\u001b[0m\n\u001b[0;32m--> 347\u001b[0;31m         \u001b[0;32mreturn\u001b[0m \u001b[0mself\u001b[0m\u001b[0;34m.\u001b[0m\u001b[0m_path2d\u001b[0m\u001b[0;34m\u001b[0m\u001b[0;34m\u001b[0m\u001b[0m\n\u001b[0m\u001b[1;32m    348\u001b[0m \u001b[0;34m\u001b[0m\u001b[0m\n\u001b[1;32m    349\u001b[0m     \u001b[0;34m@\u001b[0m\u001b[0m_api\u001b[0m\u001b[0;34m.\u001b[0m\u001b[0mdelete_parameter\u001b[0m\u001b[0;34m(\u001b[0m\u001b[0;34m'3.4'\u001b[0m\u001b[0;34m,\u001b[0m \u001b[0;34m'renderer'\u001b[0m\u001b[0;34m)\u001b[0m\u001b[0;34m\u001b[0m\u001b[0;34m\u001b[0m\u001b[0m\n",
      "\u001b[0;31mAttributeError\u001b[0m: 'Arrow3D' object has no attribute '_path2d'"
     ]
    },
    {
     "data": {
      "text/plain": [
       "<Figure size 288x288 with 1 Axes>"
      ]
     },
     "execution_count": 163,
     "metadata": {},
     "output_type": "execute_result"
    }
   ],
   "source": [
    "qc.save_statevector()\n",
    "qobj = assemble(qc)\n",
    "state = sim.run(qobj).result().get_statevector()\n",
    "plot_bloch_multivector(state)"
   ]
  },
  {
   "cell_type": "code",
   "execution_count": 185,
   "id": "152de00f",
   "metadata": {},
   "outputs": [
    {
     "name": "stdout",
     "output_type": "stream",
     "text": [
      "Statevector([0.+0.000000e+00j, 1.-6.123234e-17j],\n",
      "            dims=(2,))\n"
     ]
    },
    {
     "data": {
      "text/html": [
       "<pre style=\"word-wrap: normal;white-space: pre;background: #fff0;line-height: 1.1;font-family: &quot;Courier New&quot;,Courier,monospace\">     ┌──────────────────────────────┐┌───┐┌─┐ ░ \n",
       "  q: ┤ Initialize(0.70711,-0.70711) ├┤ H ├┤M├─░─\n",
       "     └──────────────────────────────┘└───┘└╥┘ ░ \n",
       "c: 1/══════════════════════════════════════╩════\n",
       "                                           0    </pre>"
      ],
      "text/plain": [
       "     ┌──────────────────────────────┐┌───┐┌─┐ ░ \n",
       "  q: ┤ Initialize(0.70711,-0.70711) ├┤ H ├┤M├─░─\n",
       "     └──────────────────────────────┘└───┘└╥┘ ░ \n",
       "c: 1/══════════════════════════════════════╩════\n",
       "                                           0    "
      ]
     },
     "execution_count": 185,
     "metadata": {},
     "output_type": "execute_result"
    }
   ],
   "source": [
    "def x_measurement(qc, qubit, cbit):\n",
    "    \"\"\"Measure 'qubit' in the X-basis, and store the result in 'cbit'\"\"\"\n",
    "    qc.h(qubit)\n",
    "    qc.measure(qubit, cbit)\n",
    "    return qc\n",
    "\n",
    "initial_state = [1/sqrt(2), -1/sqrt(2)]\n",
    "# Initialize our qubit and measure it\n",
    "qc = QuantumCircuit(1,1)\n",
    "qc.initialize(initial_state, 0)\n",
    "x_measurement(qc, 0, 0)  # measure qubit 0 to classical bit 0\n",
    "#qc.measure_all()\n",
    "\n",
    "qc.save_statevector() # Save statevector\n",
    "qobj = assemble(qc)\n",
    "state = sim.run(qobj).result().get_statevector() # Execute the circuit\n",
    "print(state)  \n",
    "qc.draw()"
   ]
  },
  {
   "cell_type": "code",
   "execution_count": 186,
   "id": "b88d9214",
   "metadata": {},
   "outputs": [
    {
     "data": {
      "image/png": "[encoded data removed]",
      "text/plain": [
       "<Figure size 504x360 with 1 Axes>"
      ]
     },
     "execution_count": 186,
     "metadata": {},
     "output_type": "execute_result"
    }
   ],
   "source": [
    "qobj = assemble(qc)  # Assemble circuit into a Qobj that can be run\n",
    "counts = sim.run(qobj).result().get_counts()  # Do the simulation, returning the state vector\n",
    "plot_histogram(counts)  # Display the output on measurement of state vector"
   ]
  },
  {
   "cell_type": "code",
   "execution_count": 189,
   "id": "45588dc4",
   "metadata": {},
   "outputs": [
    {
     "data": {
      "application/vnd.jupyter.widget-view+json": {
       "model_id": "b2eca4a3285342a3bcb08ea266097ad2",
       "version_major": 2,
       "version_minor": 0
      },
      "text/plain": [
       "VBox(children=(HBox(children=(Button(description='X', layout=Layout(height='3em', width='3em'), style=ButtonSt…"
      ]
     },
     "metadata": {},
     "output_type": "display_data"
    },
    {
     "data": {
      "application/vnd.jupyter.widget-view+json": {
       "model_id": "2246c12d584541e1acc97e8bce228308",
       "version_major": 2,
       "version_minor": 0
      },
      "text/plain": [
       "Image(value=b'\\x89PNG\\r\\n\\x1a\\n\\x00\\x00\\x00\\rIHDR\\x00\\x00\\x01 \\x00\\x00\\x01 \\x08\\x06\\x00\\x00\\x00\\x14\\x83\\xae\\x8…"
      ]
     },
     "metadata": {},
     "output_type": "display_data"
    }
   ],
   "source": [
    "# Run the code in this cell to see the widget\n",
    "from qiskit_textbook.widgets import gate_demo\n",
    "gate_demo(gates='pauli+h+p')"
   ]
  },
  {
   "cell_type": "markdown",
   "id": "80c0e9a7",
   "metadata": {},
   "source": [
    "# R / P gate"
   ]
  },
  {
   "cell_type": "code",
   "execution_count": 191,
   "id": "e143a20b",
   "metadata": {},
   "outputs": [
    {
     "data": {
      "text/html": [
       "<pre style=\"word-wrap: normal;white-space: pre;background: #fff0;line-height: 1.1;font-family: &quot;Courier New&quot;,Courier,monospace\">   ┌────────┐\n",
       "q: ┤ P(π/4) ├\n",
       "   └────────┘</pre>"
      ],
      "text/plain": [
       "   ┌────────┐\n",
       "q: ┤ P(π/4) ├\n",
       "   └────────┘"
      ]
     },
     "execution_count": 191,
     "metadata": {},
     "output_type": "execute_result"
    }
   ],
   "source": [
    "\n",
    "\n",
    "qc = QuantumCircuit(1)\n",
    "qc.p(pi/4, 0)\n",
    "qc.draw()"
   ]
  },
  {
   "cell_type": "markdown",
   "id": "03827fd3",
   "metadata": {},
   "source": [
    "# S gate"
   ]
  },
  {
   "cell_type": "code",
   "execution_count": 193,
   "id": "98b44540",
   "metadata": {},
   "outputs": [
    {
     "data": {
      "text/html": [
       "<pre style=\"word-wrap: normal;white-space: pre;background: #fff0;line-height: 1.1;font-family: &quot;Courier New&quot;,Courier,monospace\">   ┌───┐┌─────┐\n",
       "q: ┤ S ├┤ Sdg ├\n",
       "   └───┘└─────┘</pre>"
      ],
      "text/plain": [
       "   ┌───┐┌─────┐\n",
       "q: ┤ S ├┤ Sdg ├\n",
       "   └───┘└─────┘"
      ]
     },
     "execution_count": 193,
     "metadata": {},
     "output_type": "execute_result"
    }
   ],
   "source": [
    "qc = QuantumCircuit(1)\n",
    "qc.s(0)   # Apply S-gate to qubit 0\n",
    "qc.sdg(0) # Apply Sdg-gate to qubit 0\n",
    "qc.draw()"
   ]
  },
  {
   "cell_type": "markdown",
   "id": "d8d6ebf4",
   "metadata": {},
   "source": [
    "# T gate"
   ]
  },
  {
   "cell_type": "code",
   "execution_count": 194,
   "id": "c2075c14",
   "metadata": {},
   "outputs": [
    {
     "data": {
      "text/html": [
       "<pre style=\"word-wrap: normal;white-space: pre;background: #fff0;line-height: 1.1;font-family: &quot;Courier New&quot;,Courier,monospace\">   ┌───┐┌─────┐\n",
       "q: ┤ T ├┤ Tdg ├\n",
       "   └───┘└─────┘</pre>"
      ],
      "text/plain": [
       "   ┌───┐┌─────┐\n",
       "q: ┤ T ├┤ Tdg ├\n",
       "   └───┘└─────┘"
      ]
     },
     "execution_count": 194,
     "metadata": {},
     "output_type": "execute_result"
    }
   ],
   "source": [
    "qc = QuantumCircuit(1)\n",
    "qc.t(0)   # Apply T-gate to qubit 0\n",
    "qc.tdg(0) # Apply Tdg-gate to qubit 0\n",
    "qc.draw()"
   ]
  },
  {
   "cell_type": "markdown",
   "id": "fce12eca",
   "metadata": {},
   "source": [
    "# MULTI QUBIT "
   ]
  },
  {
   "cell_type": "code",
   "execution_count": 195,
   "id": "379207e7",
   "metadata": {},
   "outputs": [],
   "source": [
    "from qiskit import QuantumCircuit, Aer, assemble\n",
    "import numpy as np\n",
    "from qiskit.visualization import plot_histogram, plot_bloch_multivector"
   ]
  },
  {
   "cell_type": "code",
   "execution_count": 203,
   "id": "42aa32ca",
   "metadata": {},
   "outputs": [
    {
     "data": {
      "text/html": [
       "<pre style=\"word-wrap: normal;white-space: pre;background: #fff0;line-height: 1.1;font-family: &quot;Courier New&quot;,Courier,monospace\">     ┌───┐\n",
       "q_0: ┤ H ├\n",
       "     ├───┤\n",
       "q_1: ┤ H ├\n",
       "     ├───┤\n",
       "q_2: ┤ H ├\n",
       "     └───┘</pre>"
      ],
      "text/plain": [
       "     ┌───┐\n",
       "q_0: ┤ H ├\n",
       "     ├───┤\n",
       "q_1: ┤ H ├\n",
       "     ├───┤\n",
       "q_2: ┤ H ├\n",
       "     └───┘"
      ]
     },
     "execution_count": 203,
     "metadata": {},
     "output_type": "execute_result"
    }
   ],
   "source": [
    "qc = QuantumCircuit(3)\n",
    "# Apply H-gate to each qubit:\n",
    "for qubit in range(3):\n",
    "    qc.h(qubit)\n",
    "# See the circuit:\n",
    "qc.draw()"
   ]
  },
  {
   "cell_type": "code",
   "execution_count": 204,
   "id": "fe46139c",
   "metadata": {},
   "outputs": [],
   "source": [
    "# Let's see the result\n",
    "svsim = Aer.get_backend('aer_simulator')\n",
    "qc.save_statevector()\n",
    "qobj = assemble(qc)\n",
    "final_state = svsim.run(qobj).result().get_statevector()\n"
   ]
  },
  {
   "cell_type": "code",
   "execution_count": 206,
   "id": "683c8d0b",
   "metadata": {},
   "outputs": [
    {
     "data": {
      "text/latex": [
       "$$\n",
       "\\text{Statevector} = \n",
       "\\begin{bmatrix}\n",
       "\\tfrac{1}{\\sqrt{8}} & \\tfrac{1}{\\sqrt{8}} & \\tfrac{1}{\\sqrt{8}} & \\tfrac{1}{\\sqrt{8}} & \\tfrac{1}{\\sqrt{8}} & \\tfrac{1}{\\sqrt{8}} & \\tfrac{1}{\\sqrt{8}} & \\tfrac{1}{\\sqrt{8}}  \\\\\n",
       " \\end{bmatrix}\n",
       "$$"
      ],
      "text/plain": [
       "<IPython.core.display.Latex object>"
      ]
     },
     "execution_count": 206,
     "metadata": {},
     "output_type": "execute_result"
    }
   ],
   "source": [
    "from qiskit.visualization import array_to_latex\n",
    "array_to_latex(final_state, prefix=\"\\\\text{Statevector} = \")"
   ]
  },
  {
   "cell_type": "markdown",
   "id": "ee97e764",
   "metadata": {},
   "source": [
    "# Tensor or Kronecker Product of X and H "
   ]
  },
  {
   "cell_type": "code",
   "execution_count": 207,
   "id": "38c3baeb",
   "metadata": {},
   "outputs": [
    {
     "data": {
      "text/html": [
       "<pre style=\"word-wrap: normal;white-space: pre;background: #fff0;line-height: 1.1;font-family: &quot;Courier New&quot;,Courier,monospace\">     ┌───┐\n",
       "q_0: ┤ H ├\n",
       "     ├───┤\n",
       "q_1: ┤ X ├\n",
       "     └───┘</pre>"
      ],
      "text/plain": [
       "     ┌───┐\n",
       "q_0: ┤ H ├\n",
       "     ├───┤\n",
       "q_1: ┤ X ├\n",
       "     └───┘"
      ]
     },
     "execution_count": 207,
     "metadata": {},
     "output_type": "execute_result"
    }
   ],
   "source": [
    "qc = QuantumCircuit(2)\n",
    "qc.h(0)\n",
    "qc.x(1)\n",
    "qc.draw()"
   ]
  },
  {
   "cell_type": "code",
   "execution_count": 211,
   "id": "e36f6e32",
   "metadata": {},
   "outputs": [
    {
     "name": "stderr",
     "output_type": "stream",
     "text": [
      "Simulation failed and returned the following error message:\n",
      "ERROR: Failed to load qobj: Duplicate key \"unitary\" in save instruction.\n"
     ]
    },
    {
     "ename": "QiskitError",
     "evalue": "'You have to select a circuit or schedule when there is more than one available'",
     "output_type": "error",
     "traceback": [
      "\u001b[0;31m---------------------------------------------------------------------------\u001b[0m",
      "\u001b[0;31mQiskitError\u001b[0m                               Traceback (most recent call last)",
      "\u001b[0;32m/var/folders/8f/4b2m45n11v3_s7xc7ndmx0nw0000gp/T/ipykernel_10848/3405531008.py\u001b[0m in \u001b[0;36m<module>\u001b[0;34m\u001b[0m\n\u001b[1;32m      2\u001b[0m \u001b[0mqc\u001b[0m\u001b[0;34m.\u001b[0m\u001b[0msave_unitary\u001b[0m\u001b[0;34m(\u001b[0m\u001b[0;34m)\u001b[0m\u001b[0;34m\u001b[0m\u001b[0;34m\u001b[0m\u001b[0m\n\u001b[1;32m      3\u001b[0m \u001b[0mqobj\u001b[0m \u001b[0;34m=\u001b[0m \u001b[0massemble\u001b[0m\u001b[0;34m(\u001b[0m\u001b[0mqc\u001b[0m\u001b[0;34m)\u001b[0m\u001b[0;34m\u001b[0m\u001b[0;34m\u001b[0m\u001b[0m\n\u001b[0;32m----> 4\u001b[0;31m \u001b[0munitary\u001b[0m \u001b[0;34m=\u001b[0m \u001b[0musim\u001b[0m\u001b[0;34m.\u001b[0m\u001b[0mrun\u001b[0m\u001b[0;34m(\u001b[0m\u001b[0mqobj\u001b[0m\u001b[0;34m)\u001b[0m\u001b[0;34m.\u001b[0m\u001b[0mresult\u001b[0m\u001b[0;34m(\u001b[0m\u001b[0;34m)\u001b[0m\u001b[0;34m.\u001b[0m\u001b[0mget_unitary\u001b[0m\u001b[0;34m(\u001b[0m\u001b[0;34m)\u001b[0m\u001b[0;34m\u001b[0m\u001b[0;34m\u001b[0m\u001b[0m\n\u001b[0m",
      "\u001b[0;32m~/opt/anaconda3/lib/python3.9/site-packages/qiskit/result/result.py\u001b[0m in \u001b[0;36mget_unitary\u001b[0;34m(self, experiment, decimals)\u001b[0m\n\u001b[1;32m    345\u001b[0m         \"\"\"\n\u001b[1;32m    346\u001b[0m         \u001b[0;32mtry\u001b[0m\u001b[0;34m:\u001b[0m\u001b[0;34m\u001b[0m\u001b[0;34m\u001b[0m\u001b[0m\n\u001b[0;32m--> 347\u001b[0;31m             \u001b[0;32mreturn\u001b[0m \u001b[0mpostprocess\u001b[0m\u001b[0;34m.\u001b[0m\u001b[0mformat_unitary\u001b[0m\u001b[0;34m(\u001b[0m\u001b[0mself\u001b[0m\u001b[0;34m.\u001b[0m\u001b[0mdata\u001b[0m\u001b[0;34m(\u001b[0m\u001b[0mexperiment\u001b[0m\u001b[0;34m)\u001b[0m\u001b[0;34m[\u001b[0m\u001b[0;34m\"unitary\"\u001b[0m\u001b[0;34m]\u001b[0m\u001b[0;34m,\u001b[0m \u001b[0mdecimals\u001b[0m\u001b[0;34m=\u001b[0m\u001b[0mdecimals\u001b[0m\u001b[0;34m)\u001b[0m\u001b[0;34m\u001b[0m\u001b[0;34m\u001b[0m\u001b[0m\n\u001b[0m\u001b[1;32m    348\u001b[0m         \u001b[0;32mexcept\u001b[0m \u001b[0mKeyError\u001b[0m \u001b[0;32mas\u001b[0m \u001b[0mex\u001b[0m\u001b[0;34m:\u001b[0m\u001b[0;34m\u001b[0m\u001b[0;34m\u001b[0m\u001b[0m\n\u001b[1;32m    349\u001b[0m             \u001b[0;32mraise\u001b[0m \u001b[0mQiskitError\u001b[0m\u001b[0;34m(\u001b[0m\u001b[0;34mf'No unitary for experiment \"{repr(experiment)}\"'\u001b[0m\u001b[0;34m)\u001b[0m \u001b[0;32mfrom\u001b[0m \u001b[0mex\u001b[0m\u001b[0;34m\u001b[0m\u001b[0;34m\u001b[0m\u001b[0m\n",
      "\u001b[0;32m~/opt/anaconda3/lib/python3.9/site-packages/qiskit/result/result.py\u001b[0m in \u001b[0;36mdata\u001b[0;34m(self, experiment)\u001b[0m\n\u001b[1;32m    196\u001b[0m         \"\"\"\n\u001b[1;32m    197\u001b[0m         \u001b[0;32mtry\u001b[0m\u001b[0;34m:\u001b[0m\u001b[0;34m\u001b[0m\u001b[0;34m\u001b[0m\u001b[0m\n\u001b[0;32m--> 198\u001b[0;31m             \u001b[0;32mreturn\u001b[0m \u001b[0mself\u001b[0m\u001b[0;34m.\u001b[0m\u001b[0m_get_experiment\u001b[0m\u001b[0;34m(\u001b[0m\u001b[0mexperiment\u001b[0m\u001b[0;34m)\u001b[0m\u001b[0;34m.\u001b[0m\u001b[0mdata\u001b[0m\u001b[0;34m.\u001b[0m\u001b[0mto_dict\u001b[0m\u001b[0;34m(\u001b[0m\u001b[0;34m)\u001b[0m\u001b[0;34m\u001b[0m\u001b[0;34m\u001b[0m\u001b[0m\n\u001b[0m\u001b[1;32m    199\u001b[0m         \u001b[0;32mexcept\u001b[0m \u001b[0;34m(\u001b[0m\u001b[0mKeyError\u001b[0m\u001b[0;34m,\u001b[0m \u001b[0mTypeError\u001b[0m\u001b[0;34m)\u001b[0m \u001b[0;32mas\u001b[0m \u001b[0mex\u001b[0m\u001b[0;34m:\u001b[0m\u001b[0;34m\u001b[0m\u001b[0;34m\u001b[0m\u001b[0m\n\u001b[1;32m    200\u001b[0m             \u001b[0;32mraise\u001b[0m \u001b[0mQiskitError\u001b[0m\u001b[0;34m(\u001b[0m\u001b[0;34mf'No data for experiment \"{repr(experiment)}\"'\u001b[0m\u001b[0;34m)\u001b[0m \u001b[0;32mfrom\u001b[0m \u001b[0mex\u001b[0m\u001b[0;34m\u001b[0m\u001b[0;34m\u001b[0m\u001b[0m\n",
      "\u001b[0;32m~/opt/anaconda3/lib/python3.9/site-packages/qiskit/result/result.py\u001b[0m in \u001b[0;36m_get_experiment\u001b[0;34m(self, key)\u001b[0m\n\u001b[1;32m    366\u001b[0m         \u001b[0;32mif\u001b[0m \u001b[0mkey\u001b[0m \u001b[0;32mis\u001b[0m \u001b[0;32mNone\u001b[0m\u001b[0;34m:\u001b[0m\u001b[0;34m\u001b[0m\u001b[0;34m\u001b[0m\u001b[0m\n\u001b[1;32m    367\u001b[0m             \u001b[0;32mif\u001b[0m \u001b[0mlen\u001b[0m\u001b[0;34m(\u001b[0m\u001b[0mself\u001b[0m\u001b[0;34m.\u001b[0m\u001b[0mresults\u001b[0m\u001b[0;34m)\u001b[0m \u001b[0;34m!=\u001b[0m \u001b[0;36m1\u001b[0m\u001b[0;34m:\u001b[0m\u001b[0;34m\u001b[0m\u001b[0;34m\u001b[0m\u001b[0m\n\u001b[0;32m--> 368\u001b[0;31m                 raise QiskitError(\n\u001b[0m\u001b[1;32m    369\u001b[0m                     \u001b[0;34m\"You have to select a circuit or schedule when there is more than one available\"\u001b[0m\u001b[0;34m\u001b[0m\u001b[0;34m\u001b[0m\u001b[0m\n\u001b[1;32m    370\u001b[0m                 )\n",
      "\u001b[0;31mQiskitError\u001b[0m: 'You have to select a circuit or schedule when there is more than one available'"
     ]
    }
   ],
   "source": [
    "usim = Aer.get_backend('aer_simulator')\n",
    "qc.save_unitary()\n",
    "qobj = assemble(qc)\n",
    "unitary = usim.run(qobj).result().get_unitary()"
   ]
  },
  {
   "cell_type": "code",
   "execution_count": 213,
   "id": "70e690db",
   "metadata": {},
   "outputs": [
    {
     "data": {
      "text/latex": [
       "$$\n",
       "\\text{Circuit = }\n",
       "\n",
       "\\begin{bmatrix}\n",
       "0 & 0 & \\tfrac{1}{\\sqrt{2}} & \\tfrac{1}{\\sqrt{2}}  \\\\\n",
       " 0 & 0 & \\tfrac{1}{\\sqrt{2}} & -\\tfrac{1}{\\sqrt{2}}  \\\\\n",
       " \\tfrac{1}{\\sqrt{2}} & \\tfrac{1}{\\sqrt{2}} & 0 & 0  \\\\\n",
       " \\tfrac{1}{\\sqrt{2}} & -\\tfrac{1}{\\sqrt{2}} & 0 & 0  \\\\\n",
       " \\end{bmatrix}\n",
       "$$"
      ],
      "text/plain": [
       "<IPython.core.display.Latex object>"
      ]
     },
     "execution_count": 213,
     "metadata": {},
     "output_type": "execute_result"
    }
   ],
   "source": [
    "\n",
    "from qiskit.visualization import array_to_latex\n",
    "array_to_latex(unitary, prefix=\"\\\\text{Circuit = }\\n\")"
   ]
  },
  {
   "cell_type": "markdown",
   "id": "220fa31b",
   "metadata": {},
   "source": [
    "# Tensor or Kronecker Product of I and H "
   ]
  },
  {
   "cell_type": "code",
   "execution_count": 232,
   "id": "9ede6472",
   "metadata": {},
   "outputs": [
    {
     "data": {
      "text/html": [
       "<pre style=\"word-wrap: normal;white-space: pre;background: #fff0;line-height: 1.1;font-family: &quot;Courier New&quot;,Courier,monospace\">          \n",
       "q_0: ─────\n",
       "     ┌───┐\n",
       "q_1: ┤ X ├\n",
       "     └───┘</pre>"
      ],
      "text/plain": [
       "          \n",
       "q_0: ─────\n",
       "     ┌───┐\n",
       "q_1: ┤ X ├\n",
       "     └───┘"
      ]
     },
     "execution_count": 232,
     "metadata": {},
     "output_type": "execute_result"
    }
   ],
   "source": [
    "qc = QuantumCircuit(2)\n",
    "qc.x(1)\n",
    "qc.draw()"
   ]
  },
  {
   "cell_type": "code",
   "execution_count": 233,
   "id": "3a1831bf",
   "metadata": {},
   "outputs": [
    {
     "data": {
      "text/latex": [
       "$$\n",
       "\\text{Circuit = } \n",
       "\\begin{bmatrix}\n",
       "0 & 0 & 1 & 0  \\\\\n",
       " 0 & 0 & 0 & 1  \\\\\n",
       " 1 & 0 & 0 & 0  \\\\\n",
       " 0 & 1 & 0 & 0  \\\\\n",
       " \\end{bmatrix}\n",
       "$$"
      ],
      "text/plain": [
       "<IPython.core.display.Latex object>"
      ]
     },
     "execution_count": 233,
     "metadata": {},
     "output_type": "execute_result"
    }
   ],
   "source": [
    "# Simulate the unitary\n",
    "usim = Aer.get_backend('qasm_simulator')\n",
    "qc.save_unitary()\n",
    "qobj = assemble(qc)\n",
    "unitary1 = usim.run(qobj).result().get_unitary()\n",
    "# Display the results:\n",
    "array_to_latex(unitary, prefix=\"\\\\text{Circuit = } \")"
   ]
  },
  {
   "cell_type": "markdown",
   "id": "bb60f72e",
   "metadata": {},
   "source": [
    "# Bell State\n"
   ]
  },
  {
   "cell_type": "code",
   "execution_count": 261,
   "id": "1ccfa552",
   "metadata": {},
   "outputs": [
    {
     "data": {
      "text/html": [
       "<pre style=\"word-wrap: normal;white-space: pre;background: #fff0;line-height: 1.1;font-family: &quot;Courier New&quot;,Courier,monospace\">     ┌───┐     \n",
       "q_0: ┤ H ├──■──\n",
       "     └───┘┌─┴─┐\n",
       "q_1: ─────┤ X ├\n",
       "          └───┘</pre>"
      ],
      "text/plain": [
       "     ┌───┐     \n",
       "q_0: ┤ H ├──■──\n",
       "     └───┘┌─┴─┐\n",
       "q_1: ─────┤ X ├\n",
       "          └───┘"
      ]
     },
     "execution_count": 261,
     "metadata": {},
     "output_type": "execute_result"
    }
   ],
   "source": [
    "qc = QuantumCircuit(2)\n",
    "qc.h(0)\n",
    "# Apply a CNOT:\n",
    "qc.cx(0,1)\n",
    "qc.draw()"
   ]
  },
  {
   "cell_type": "code",
   "execution_count": 262,
   "id": "43e91dcb",
   "metadata": {},
   "outputs": [
    {
     "name": "stdout",
     "output_type": "stream",
     "text": [
      "<IPython.core.display.Latex object>\n"
     ]
    },
    {
     "data": {
      "image/png": "[encoded data removed]",
      "text/plain": [
       "<Figure size 504x360 with 1 Axes>"
      ]
     },
     "execution_count": 262,
     "metadata": {},
     "output_type": "execute_result"
    }
   ],
   "source": [
    "# Let's get the result:\n",
    "qc.save_statevector()\n",
    "qobj = assemble(qc)\n",
    "result = svsim.run(qobj).result()\n",
    "# Print the statevector neatly:\n",
    "final_state = result.get_statevector()\n",
    "print(array_to_latex(final_state, prefix=\"\\\\text{Statevector = }\"))\n",
    "plot_histogram(result.get_counts())"
   ]
  },
  {
   "cell_type": "code",
   "execution_count": null,
   "id": "3d54bddd",
   "metadata": {},
   "outputs": [],
   "source": []
  }
 ],
 "metadata": {
  "kernelspec": {
   "display_name": "Python 3 (ipykernel)",
   "language": "python",
   "name": "python3"
  },
  "language_info": {
   "codemirror_mode": {
    "name": "ipython",
    "version": 3
   },
   "file_extension": ".py",
   "mimetype": "text/x-python",
   "name": "python",
   "nbconvert_exporter": "python",
   "pygments_lexer": "ipython3",
   "version": "3.9.7"
  }
 },
 "nbformat": 4,
 "nbformat_minor": 5
}
